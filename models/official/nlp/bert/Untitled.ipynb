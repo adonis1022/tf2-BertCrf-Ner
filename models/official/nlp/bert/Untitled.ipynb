{
 "cells": [
  {
   "cell_type": "code",
   "execution_count": 14,
   "metadata": {},
   "outputs": [],
   "source": [
    "import sys\n",
    "sys.path.append(\"D:\\work\\models-master\")\n",
    "import tensorflow as tf\n",
    "import run_classifier\n",
    "import bert_models\n",
    "from official.nlp.bert import configs as bert_configs\n",
    "import json\n",
    "import tensorflow_hub as hub\n",
    "from official.nlp.modeling.layers import CRF\n",
    "import tensorflow_addons  as tfa"
   ]
  },
  {
   "cell_type": "code",
   "execution_count": 15,
   "metadata": {},
   "outputs": [],
   "source": [
    "input_fn = run_classifier.get_dataset_fn(r\"D:\\work\\models-master\\official\\nlp\\process_dir\\ner_data\\ner_eval.tf_record\",\n",
    "                                              128, 32, is_training=True)"
   ]
  },
  {
   "cell_type": "code",
   "execution_count": 34,
   "metadata": {},
   "outputs": [],
   "source": [
    "ds = input_fn()\n",
    "\n",
    "it = ds.__iter__()\n",
    "\n",
    "inp = it.next()\n",
    "\n",
    "x = inp[0] \n",
    "y = inp[1]"
   ]
  },
  {
   "cell_type": "code",
   "execution_count": 17,
   "metadata": {},
   "outputs": [],
   "source": [
    "max_length = 128\n",
    "num_labels=10\n",
    "module_url=\"https://tfhub.dev/tensorflow/bert_zh_L-12_H-768_A-12/1\"\n",
    "model_file = r\"D:\\work\\bert_weights\"\n"
   ]
  },
  {
   "cell_type": "code",
   "execution_count": 18,
   "metadata": {},
   "outputs": [],
   "source": [
    "def BertCrf(bert_file, max_length=512, num_labels=10, hidden_size=768):\n",
    "    input_word_ids = tf.keras.layers.Input(shape=(max_length,), dtype=tf.int32, name=\"input_word_ids\")\n",
    "    segment_ids = tf.keras.layers.Input(shape=(max_length,), dtype=tf.int32, name=\"segment_ids\")\n",
    "    input_masks = tf.keras.layers.Input(shape=(max_length,), dtype=tf.int32, name=\"input_masks\")\n",
    "    bert_layer = hub.KerasLayer(model_file, trainable=True)\n",
    "    _, sequence_output = bert_layer([input_word_ids, input_masks, segment_ids])\n",
    "    emission = tf.keras.layers.Dense(num_labels, activation=\"tanh\")(sequence_output)\n",
    "    crf = CRF.CRF(num_labels, name='crf_layer')\n",
    "    decoded_sequence = crf(emission)\n",
    "    model = tf.keras.Model(inputs=[input_word_ids, input_masks, segment_ids], outputs=decoded_sequence)\n",
    "    model.compile(optimizer='adam', loss={'crf_layer': crf.get_loss})\n",
    "    return model"
   ]
  },
  {
   "cell_type": "code",
   "execution_count": 19,
   "metadata": {},
   "outputs": [],
   "source": [
    "model = BertCrf(model_file, max_length=128, num_labels=11)"
   ]
  },
  {
   "cell_type": "code",
   "execution_count": 21,
   "metadata": {},
   "outputs": [],
   "source": [
    "def acc_func(y_true, y_pred):\n",
    "    batch_total_num = 0.0\n",
    "    batch_correct_num = 0.0\n",
    "    for i in range(y_true.shape[0]):\n",
    "        for j in range(y_true.shape[1]):\n",
    "            if (y_true[i][j] != 0 and y_true[i][j] != 4):\n",
    "                batch_total_num += 1\n",
    "                if(y_true[i][j] == y_pred[i][i]):\n",
    "                    batch_correct_num += 1\n",
    "    return batch_correct_num, batch_total_num"
   ]
  },
  {
   "cell_type": "code",
   "execution_count": 22,
   "metadata": {},
   "outputs": [],
   "source": [
    "def compute_acc(ds, model):\n",
    "    total_num = 0.0\n",
    "    correct_num = 0.0\n",
    "    for x, y in ds:\n",
    "        batch_correct_num, batch_total_num = acc_func(y, model(x))\n",
    "        total_num += batch_total_num\n",
    "        correct_num += batch_correct_num\n",
    "        break\n",
    "    return correct_num / total_num"
   ]
  },
  {
   "cell_type": "code",
   "execution_count": null,
   "metadata": {},
   "outputs": [
    {
     "name": "stdout",
     "output_type": "stream",
     "text": [
      "Epoch 1/50\n",
      "1/1 [==============================] - 0s 12ms/step - loss: 187.3872\n",
      "Epoch 2/50\n",
      "1/1 [==============================] - 0s 3ms/step - loss: 186.0808\n",
      "Epoch 3/50\n",
      "1/1 [==============================] - 0s 3ms/step - loss: 184.7671\n",
      "Epoch 4/50\n",
      "1/1 [==============================] - 0s 11ms/step - loss: 183.4501\n",
      "Epoch 5/50\n",
      "1/1 [==============================] - 0s 3ms/step - loss: 182.1299\n",
      "Epoch 6/50\n",
      "1/1 [==============================] - 0s 3ms/step - loss: 180.8178\n",
      "Epoch 7/50\n",
      "1/1 [==============================] - 0s 2ms/step - loss: 179.5134\n",
      "Epoch 8/50\n",
      "1/1 [==============================] - 0s 2ms/step - loss: 178.2187\n",
      "Epoch 9/50\n",
      "1/1 [==============================] - 0s 2ms/step - loss: 176.9323\n",
      "Epoch 10/50\n",
      "1/1 [==============================] - 0s 3ms/step - loss: 175.6581\n",
      "Epoch 11/50\n",
      "1/1 [==============================] - 0s 3ms/step - loss: 175.1678\n",
      "Epoch 12/50\n",
      "1/1 [==============================] - 0s 3ms/step - loss: 567.8224\n",
      "Epoch 13/50\n",
      "1/1 [==============================] - 0s 3ms/step - loss: 567.7233\n",
      "Epoch 14/50\n",
      "1/1 [==============================] - 0s 48ms/step - loss: 567.3421\n",
      "Epoch 15/50\n",
      "1/1 [==============================] - 0s 3ms/step - loss: 565.6746\n",
      "Epoch 16/50\n",
      "1/1 [==============================] - 0s 4ms/step - loss: 567.8156\n",
      "Epoch 17/50\n"
     ]
    }
   ],
   "source": [
    "model.fit(x,y,epochs=50)"
   ]
  },
  {
   "cell_type": "code",
   "execution_count": null,
   "metadata": {},
   "outputs": [],
   "source": []
  }
 ],
 "metadata": {
  "kernelspec": {
   "display_name": "Python 3",
   "language": "python",
   "name": "python3"
  },
  "language_info": {
   "codemirror_mode": {
    "name": "ipython",
    "version": 3
   },
   "file_extension": ".py",
   "mimetype": "text/x-python",
   "name": "python",
   "nbconvert_exporter": "python",
   "pygments_lexer": "ipython3",
   "version": "3.7.0"
  }
 },
 "nbformat": 4,
 "nbformat_minor": 2
}
